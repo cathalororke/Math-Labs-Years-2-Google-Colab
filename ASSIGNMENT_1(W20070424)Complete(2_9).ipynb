{
  "nbformat": 4,
  "nbformat_minor": 0,
  "metadata": {
    "colab": {
      "provenance": [],
      "collapsed_sections": [
        "iZ72VQJWlSOF"
      ],
      "include_colab_link": true
    },
    "kernelspec": {
      "name": "python3",
      "display_name": "Python 3"
    },
    "language_info": {
      "name": "python"
    }
  },
  "cells": [
    {
      "cell_type": "markdown",
      "metadata": {
        "id": "view-in-github",
        "colab_type": "text"
      },
      "source": [
        "<a href=\"https://colab.research.google.com/github/cathalororke/Math-Labs-Years-2-Google-Colab/blob/main/ASSIGNMENT_1(W20070424)Complete(2_9).ipynb\" target=\"_parent\"><img src=\"https://colab.research.google.com/assets/colab-badge.svg\" alt=\"Open In Colab\"/></a>"
      ]
    },
    {
      "cell_type": "markdown",
      "source": [
        "# Mathematical Methods - Autumn 2022\n",
        "\n",
        "# Assignment 1\n",
        "\n",
        "# Due: __Sunday 23 October at 11:59 p.m.__\n",
        "\n",
        "## __Completed workbooks should be uploaded to Moodle__\n",
        "\n",
        "---\n",
        "___\n",
        "# Instructions\n",
        "\n",
        "* Define each of the required functions in __Questions 1 - 4__ and use each function to answer the subsequent exercises\n",
        "\n",
        "\n",
        "* Make sure you save your __completed workbook__ before uploading to __Moodle__\n",
        "\n",
        "\n",
        "* Download and save your workbook in the format __12345678.ipynb__ where __12345678__ is your __student number__\n",
        "\n",
        "\n",
        "* __IMMPORTANT__ You must save and submit your workbook with the __.ipynb__ extension\n",
        "\n",
        "\n",
        "* This assignment is based on __Workbooks 1 - 4__ which we have coverd during practicals\n",
        "\n",
        "\n",
        "___\n",
        "___\n",
        "\n",
        "\n",
        "### Importing the libraries"
      ],
      "metadata": {
        "id": "dciqvseqbMp8"
      }
    },
    {
      "cell_type": "code",
      "source": [
        "import matplotlib.pyplot as plt  ## Library of functions for 2D plotting\n",
        "import numpy as np ## Library of function for numerical work\n",
        "\n",
        "from mpl_toolkits.mplot3d import Axes3D # Import the functions for creating 3D plots\n",
        "\n",
        "from ipywidgets import widgets, interact, interactive, fixed, interact_manual # Import widgets for interactive plots\n",
        "from IPython.display import clear_output # A function to clear interactive plots before each update\n",
        "\n",
        "from matplotlib import animation # A function to create an animation\n",
        "from IPython.display import HTML"
      ],
      "metadata": {
        "id": "Fm0gQqDEbMHa"
      },
      "execution_count": null,
      "outputs": []
    },
    {
      "cell_type": "markdown",
      "source": [
        "____"
      ],
      "metadata": {
        "id": "TownhOHwdDBu"
      }
    },
    {
      "cell_type": "markdown",
      "source": [
        "# Question 1\n",
        "\n",
        "__a)__    Define a function to create a 3-dimensional vector or point. \n",
        "\n",
        "The function should __round__ the entries of the point or vector to __3 decimal places__"
      ],
      "metadata": {
        "id": "qIya17-YdFD4"
      }
    },
    {
      "cell_type": "code",
      "source": [
        "def v2d(a,b):\n",
        "    return np.array([a,b])"
      ],
      "metadata": {
        "id": "h9cTLct1dD0b"
      },
      "execution_count": 1,
      "outputs": []
    },
    {
      "cell_type": "code",
      "source": [
        "def v3d(a,b,c,d):\n",
        "    return np.array([a,b,c,d])"
      ],
      "metadata": {
        "id": "TrMJ-sxmeZ5V"
      },
      "execution_count": 2,
      "outputs": []
    },
    {
      "cell_type": "code",
      "source": [
        "\n",
        "def v3d(a,b,c,d):"
      ],
      "metadata": {
        "id": "lp5_ZKgKeaDU"
      },
      "execution_count": null,
      "outputs": []
    },
    {
      "cell_type": "code",
      "source": [
        "return np.array([a,b,c,d])"
      ],
      "metadata": {
        "id": "0xKzMgj9ef69"
      },
      "execution_count": null,
      "outputs": []
    },
    {
      "cell_type": "markdown",
      "source": [
        "__b)__ Given the points\n",
        "$$\n",
        "A(-4.5, 3.2, 7.2) \\qquad B(6.5, -4.1, 9.8) \\qquad C(7.6, 8.8, 9.1) \\qquad D(-5.4, -0.5, 7.8)\n",
        "$$\n",
        "answer the following:\n",
        "\n",
        "* Create the vectors $\\vec{AB}$, $\\vec{BC}$, $\\vec{CD}$ and $\\vec{AD}$ \n",
        "\n",
        "\n",
        "\n",
        "* Check the __truth value__ of the vector equation\n",
        "$$\n",
        "\\vec{AB} + \\vec{BC} + \\vec{CD} = \\vec{AD}\n",
        "$$\n",
        "\n",
        "__HINT: ==__"
      ],
      "metadata": {
        "id": "tnQeSo1-dUs4"
      }
    },
    {
      "cell_type": "code",
      "source": [
        "=v2d(-4.5,3.2,7.2)"
      ],
      "metadata": {
        "id": "17uYwXwgeJlM",
        "colab": {
          "base_uri": "https://localhost:8080/",
          "height": 130
        },
        "outputId": "452e4da2-7119-48ac-c84c-109741159f39"
      },
      "execution_count": 4,
      "outputs": [
        {
          "output_type": "error",
          "ename": "SyntaxError",
          "evalue": "ignored",
          "traceback": [
            "\u001b[0;36m  File \u001b[0;32m\"<ipython-input-4-2b6e83f76a97>\"\u001b[0;36m, line \u001b[0;32m1\u001b[0m\n\u001b[0;31m    =v2d(-4.5,3.2,7.2)\u001b[0m\n\u001b[0m    ^\u001b[0m\n\u001b[0;31mSyntaxError\u001b[0m\u001b[0;31m:\u001b[0m invalid syntax\n"
          ]
        }
      ]
    },
    {
      "cell_type": "code",
      "source": [
        "==v2d(6.5,-4.1,9.8)"
      ],
      "metadata": {
        "id": "W6oo-Js5efOR"
      },
      "execution_count": null,
      "outputs": []
    },
    {
      "cell_type": "code",
      "source": [
        "==v2d(7.6,8.8,9.1)"
      ],
      "metadata": {
        "id": "T1o_5m8pefU0"
      },
      "execution_count": null,
      "outputs": []
    },
    {
      "cell_type": "code",
      "source": [
        "def v2d(a,b,c,d):\n",
        "    return np.array([a,b,c,d])"
      ],
      "metadata": {
        "id": "gDhM-bA5efdM"
      },
      "execution_count": null,
      "outputs": []
    },
    {
      "cell_type": "markdown",
      "source": [
        "__c)__ Create a __3D plot__ of the vectors $\\vec{AB}$, $\\vec{BC}$, $\\vec{CD}$ and $\\vec{AD}$ \n",
        "\n",
        "__NOTE:__ It  is important to __label__ your axes correctly and to include a __legend__ to identify the vectors in the plot"
      ],
      "metadata": {
        "id": "JwyY4VpOegfd"
      }
    },
    {
      "cell_type": "code",
      "source": [
        "A = v2d(-4.5 ,3.2,7.2)"
      ],
      "metadata": {
        "id": "S-59acete9bE"
      },
      "execution_count": null,
      "outputs": []
    },
    {
      "cell_type": "code",
      "source": [
        "B = v2d(6.5,-4.1,9.8)"
      ],
      "metadata": {
        "id": "8vGVEkFmfCA3"
      },
      "execution_count": null,
      "outputs": []
    },
    {
      "cell_type": "code",
      "source": [
        "C = v2d(7.6,8.8,9.1)"
      ],
      "metadata": {
        "id": "K1Bqf2u1fCMs"
      },
      "execution_count": null,
      "outputs": []
    },
    {
      "cell_type": "code",
      "source": [
        "D = v2d(−5.4,−0.5,7.8)"
      ],
      "metadata": {
        "id": "JkTj_nwKfCT0"
      },
      "execution_count": null,
      "outputs": []
    },
    {
      "cell_type": "markdown",
      "source": [
        "___\n",
        "___"
      ],
      "metadata": {
        "id": "Xvpe9r5Lfk-U"
      }
    },
    {
      "cell_type": "markdown",
      "source": [
        "# Question 2\n",
        "\n",
        "Given the vectors\n",
        "$$\n",
        "\\vec{u} = 1.34\\hat{\\imath} - 2.45\\hat{\\jmath} + 3.33\\hat{k} \\qquad \n",
        "\\vec{v} = -3.21\\hat{\\imath} + 1.63\\hat{\\jmath} - 4.21\\hat{k}\n",
        "$$\n",
        "answer the following:\n",
        "\n",
        "\n",
        "__a)__ \n",
        "\n",
        "__i.__ Define a function to find the __norm__ of these vectors\n",
        "\n",
        "__ii.__ Use this function to find the norm of each vector\n",
        "\n",
        "\n",
        "__iii.__ Hence find the __unit vectors__ $\\hat{u}$ and $\\hat{v}$\n"
      ],
      "metadata": {
        "id": "WHS_movAfns3"
      }
    },
    {
      "cell_type": "code",
      "source": [
        "def v2d(a,b,dp):\n",
        "  return np.round(np.array([a,b]),dp)"
      ],
      "metadata": {
        "id": "hbd2vERWfmM0"
      },
      "execution_count": 8,
      "outputs": []
    },
    {
      "cell_type": "code",
      "source": [
        "a=v2d(1.34,-2.45,3.33)\n",
        "a"
      ],
      "metadata": {
        "id": "xi7uiAhjgqqc",
        "colab": {
          "base_uri": "https://localhost:8080/",
          "height": 252
        },
        "outputId": "bef6f28c-756c-48cf-f1ed-c1d72b01a5ae"
      },
      "execution_count": 13,
      "outputs": [
        {
          "output_type": "error",
          "ename": "NameError",
          "evalue": "ignored",
          "traceback": [
            "\u001b[0;31m---------------------------------------------------------------------------\u001b[0m",
            "\u001b[0;31mNameError\u001b[0m                                 Traceback (most recent call last)",
            "\u001b[0;32m<ipython-input-13-3d8b7dc2793e>\u001b[0m in \u001b[0;36m<module>\u001b[0;34m\u001b[0m\n\u001b[0;32m----> 1\u001b[0;31m \u001b[0ma\u001b[0m\u001b[0;34m=\u001b[0m\u001b[0mv2d\u001b[0m\u001b[0;34m(\u001b[0m\u001b[0;36m1.34\u001b[0m\u001b[0;34m,\u001b[0m\u001b[0;34m-\u001b[0m\u001b[0;36m2.45\u001b[0m\u001b[0;34m,\u001b[0m\u001b[0;36m3.33\u001b[0m\u001b[0;34m)\u001b[0m\u001b[0;34m\u001b[0m\u001b[0;34m\u001b[0m\u001b[0m\n\u001b[0m\u001b[1;32m      2\u001b[0m \u001b[0ma\u001b[0m\u001b[0;34m\u001b[0m\u001b[0;34m\u001b[0m\u001b[0m\n",
            "\u001b[0;32m<ipython-input-8-eaba3dab73ae>\u001b[0m in \u001b[0;36mv2d\u001b[0;34m(a, b, dp)\u001b[0m\n\u001b[1;32m      1\u001b[0m \u001b[0;32mdef\u001b[0m \u001b[0mv2d\u001b[0m\u001b[0;34m(\u001b[0m\u001b[0ma\u001b[0m\u001b[0;34m,\u001b[0m\u001b[0mb\u001b[0m\u001b[0;34m,\u001b[0m\u001b[0mdp\u001b[0m\u001b[0;34m)\u001b[0m\u001b[0;34m:\u001b[0m\u001b[0;34m\u001b[0m\u001b[0;34m\u001b[0m\u001b[0m\n\u001b[0;32m----> 2\u001b[0;31m   \u001b[0;32mreturn\u001b[0m \u001b[0mnp\u001b[0m\u001b[0;34m.\u001b[0m\u001b[0mround\u001b[0m\u001b[0;34m(\u001b[0m\u001b[0mnp\u001b[0m\u001b[0;34m.\u001b[0m\u001b[0marray\u001b[0m\u001b[0;34m(\u001b[0m\u001b[0;34m[\u001b[0m\u001b[0ma\u001b[0m\u001b[0;34m,\u001b[0m\u001b[0mb\u001b[0m\u001b[0;34m]\u001b[0m\u001b[0;34m)\u001b[0m\u001b[0;34m,\u001b[0m\u001b[0mdp\u001b[0m\u001b[0;34m)\u001b[0m\u001b[0;34m\u001b[0m\u001b[0;34m\u001b[0m\u001b[0m\n\u001b[0m",
            "\u001b[0;31mNameError\u001b[0m: name 'np' is not defined"
          ]
        }
      ]
    },
    {
      "cell_type": "code",
      "source": [
        "def unit(u,dp):\n",
        "    return np.round(u/norm(u,dp),dp)"
      ],
      "metadata": {
        "id": "WGcPPB3tgqtU"
      },
      "execution_count": 14,
      "outputs": []
    },
    {
      "cell_type": "code",
      "source": [
        "a[0]"
      ],
      "metadata": {
        "id": "wvY1yd9Ggq7J",
        "colab": {
          "base_uri": "https://localhost:8080/",
          "height": 165
        },
        "outputId": "2b6f65ef-26d6-4a42-c69a-31b7aeecab78"
      },
      "execution_count": 15,
      "outputs": [
        {
          "output_type": "error",
          "ename": "NameError",
          "evalue": "ignored",
          "traceback": [
            "\u001b[0;31m---------------------------------------------------------------------------\u001b[0m",
            "\u001b[0;31mNameError\u001b[0m                                 Traceback (most recent call last)",
            "\u001b[0;32m<ipython-input-15-6a1284577a36>\u001b[0m in \u001b[0;36m<module>\u001b[0;34m\u001b[0m\n\u001b[0;32m----> 1\u001b[0;31m \u001b[0ma\u001b[0m\u001b[0;34m[\u001b[0m\u001b[0;36m0\u001b[0m\u001b[0;34m]\u001b[0m\u001b[0;34m\u001b[0m\u001b[0;34m\u001b[0m\u001b[0m\n\u001b[0m",
            "\u001b[0;31mNameError\u001b[0m: name 'a' is not defined"
          ]
        }
      ]
    },
    {
      "cell_type": "markdown",
      "source": [
        "__b)__ Define a function the find the __angle__ between these vectors rounded to __3 decimal places__"
      ],
      "metadata": {
        "id": "WDeT92lOgrOF"
      }
    },
    {
      "cell_type": "code",
      "source": [],
      "metadata": {
        "id": "8cR43pfngz47"
      },
      "execution_count": null,
      "outputs": []
    },
    {
      "cell_type": "code",
      "source": [],
      "metadata": {
        "id": "hnDjE0Q8g1Ud"
      },
      "execution_count": null,
      "outputs": []
    },
    {
      "cell_type": "code",
      "source": [],
      "metadata": {
        "id": "Q6BS7wg6g1XM"
      },
      "execution_count": null,
      "outputs": []
    },
    {
      "cell_type": "code",
      "source": [],
      "metadata": {
        "id": "7yxaBkBqg1gO"
      },
      "execution_count": null,
      "outputs": []
    },
    {
      "cell_type": "markdown",
      "source": [
        "__c)__ Find the __cross-product__ \n",
        "$$\n",
        "\\vec{n} = \\vec{u} \\times \\vec{v}\n",
        "$$\n",
        "\n",
        "Hence show that $\\vec{n}$ is perpendicular to the vectors $\\vec{u}$, $\\vec{v}$ and the linear combination\n",
        "$$\n",
        "\\vec{r} = 108\\vec{v} - 197\\vec{u}\n",
        "$$\n"
      ],
      "metadata": {
        "id": "w5NeNvS4hefV"
      }
    },
    {
      "cell_type": "code",
      "source": [
        "u=v3d(197)"
      ],
      "metadata": {
        "id": "NI_ycNJvh61c",
        "colab": {
          "base_uri": "https://localhost:8080/",
          "height": 165
        },
        "outputId": "0c113350-45da-4b37-c36a-3918a073104b"
      },
      "execution_count": 6,
      "outputs": [
        {
          "output_type": "error",
          "ename": "NameError",
          "evalue": "ignored",
          "traceback": [
            "\u001b[0;31m---------------------------------------------------------------------------\u001b[0m",
            "\u001b[0;31mNameError\u001b[0m                                 Traceback (most recent call last)",
            "\u001b[0;32m<ipython-input-6-afbad3eb49e1>\u001b[0m in \u001b[0;36m<module>\u001b[0;34m\u001b[0m\n\u001b[0;32m----> 1\u001b[0;31m \u001b[0mu\u001b[0m\u001b[0;34m=\u001b[0m\u001b[0mv3d\u001b[0m\u001b[0;34m(\u001b[0m\u001b[0;36m197\u001b[0m\u001b[0;34m)\u001b[0m\u001b[0;34m\u001b[0m\u001b[0;34m\u001b[0m\u001b[0m\n\u001b[0m",
            "\u001b[0;31mNameError\u001b[0m: name 'v3d' is not defined"
          ]
        }
      ]
    },
    {
      "cell_type": "code",
      "source": [
        "v=v3d(108)"
      ],
      "metadata": {
        "id": "oVWjrhtDiAfd"
      },
      "execution_count": null,
      "outputs": []
    },
    {
      "cell_type": "code",
      "source": [
        "u,v"
      ],
      "metadata": {
        "id": "83MEmd02iAiL"
      },
      "execution_count": null,
      "outputs": []
    },
    {
      "cell_type": "code",
      "source": [],
      "metadata": {
        "id": "Hf4q_LSyiAkg"
      },
      "execution_count": null,
      "outputs": []
    },
    {
      "cell_type": "markdown",
      "source": [
        "__d)__ Find the __area__ of the parallelogram spanned by the vectors $\\vec{u}$ and $\\vec{v}$"
      ],
      "metadata": {
        "id": "huqiFdo-iA2c"
      }
    },
    {
      "cell_type": "code",
      "source": [
        "plt.figure(figsize=(12,12))\n",
        "\n",
        "plt.quiver(0,0,a[0],a[1],color='grey',alpha=0.5,scale_units='xy',angles='xy',scale=1)\n",
        "plt.quiver(0,0,b[0],b[1],color='grey',alpha=0.5,scale_units='xy',angles='xy',scale=1)\n",
        "plt.quiver(0,0,c[0],c[1],color='grey',alpha=0.5,scale_units='xy',angles='xy',scale=1)\n",
        "plt.quiver(0,0,d[0],d[1],color='grey',alpha=0.5,scale_units='xy',angles='xy',scale=1)\n",
        "\n",
        "plt.quiver(0,0,ua[0],ua[1],alpha=1,scale_units='xy',angles='xy',scale=1 , label= '$\\hat{a}$' , color = 'blue')\n",
        "plt.quiver(0,0,ub[0],ub[1],alpha=1,scale_units='xy',angles='xy',scale=1 , label= '$\\hat{b}$' , color = 'green')\n",
        "plt.quiver(0,0,uc[0],uc[1],alpha=1,scale_units='xy',angles='xy',scale=1 , label= '$\\hat{c}$' , color = 'red')\n",
        "plt.quiver(0,0,ud[0],ud[1],alpha=1,scale_units='xy',angles='xy',scale=1 , label= '$\\hat{d}$' , color = 'black')\n",
        "\n",
        "\n",
        "plt.xlim(-10,10)\n",
        "plt.ylim(-11,10)\n",
        "plt.legend()"
      ],
      "metadata": {
        "id": "JX_fraRaiHac",
        "colab": {
          "base_uri": "https://localhost:8080/",
          "height": 235
        },
        "outputId": "072957fe-f7f0-49e6-9d19-5e21fbd756a1"
      },
      "execution_count": 16,
      "outputs": [
        {
          "output_type": "error",
          "ename": "NameError",
          "evalue": "ignored",
          "traceback": [
            "\u001b[0;31m---------------------------------------------------------------------------\u001b[0m",
            "\u001b[0;31mNameError\u001b[0m                                 Traceback (most recent call last)",
            "\u001b[0;32m<ipython-input-16-b082987130db>\u001b[0m in \u001b[0;36m<module>\u001b[0;34m\u001b[0m\n\u001b[0;32m----> 1\u001b[0;31m \u001b[0mplt\u001b[0m\u001b[0;34m.\u001b[0m\u001b[0mfigure\u001b[0m\u001b[0;34m(\u001b[0m\u001b[0mfigsize\u001b[0m\u001b[0;34m=\u001b[0m\u001b[0;34m(\u001b[0m\u001b[0;36m12\u001b[0m\u001b[0;34m,\u001b[0m\u001b[0;36m12\u001b[0m\u001b[0;34m)\u001b[0m\u001b[0;34m)\u001b[0m\u001b[0;34m\u001b[0m\u001b[0;34m\u001b[0m\u001b[0m\n\u001b[0m\u001b[1;32m      2\u001b[0m \u001b[0;34m\u001b[0m\u001b[0m\n\u001b[1;32m      3\u001b[0m \u001b[0mplt\u001b[0m\u001b[0;34m.\u001b[0m\u001b[0mquiver\u001b[0m\u001b[0;34m(\u001b[0m\u001b[0;36m0\u001b[0m\u001b[0;34m,\u001b[0m\u001b[0;36m0\u001b[0m\u001b[0;34m,\u001b[0m\u001b[0ma\u001b[0m\u001b[0;34m[\u001b[0m\u001b[0;36m0\u001b[0m\u001b[0;34m]\u001b[0m\u001b[0;34m,\u001b[0m\u001b[0ma\u001b[0m\u001b[0;34m[\u001b[0m\u001b[0;36m1\u001b[0m\u001b[0;34m]\u001b[0m\u001b[0;34m,\u001b[0m\u001b[0mcolor\u001b[0m\u001b[0;34m=\u001b[0m\u001b[0;34m'grey'\u001b[0m\u001b[0;34m,\u001b[0m\u001b[0malpha\u001b[0m\u001b[0;34m=\u001b[0m\u001b[0;36m0.5\u001b[0m\u001b[0;34m,\u001b[0m\u001b[0mscale_units\u001b[0m\u001b[0;34m=\u001b[0m\u001b[0;34m'xy'\u001b[0m\u001b[0;34m,\u001b[0m\u001b[0mangles\u001b[0m\u001b[0;34m=\u001b[0m\u001b[0;34m'xy'\u001b[0m\u001b[0;34m,\u001b[0m\u001b[0mscale\u001b[0m\u001b[0;34m=\u001b[0m\u001b[0;36m1\u001b[0m\u001b[0;34m)\u001b[0m\u001b[0;34m\u001b[0m\u001b[0;34m\u001b[0m\u001b[0m\n\u001b[1;32m      4\u001b[0m \u001b[0mplt\u001b[0m\u001b[0;34m.\u001b[0m\u001b[0mquiver\u001b[0m\u001b[0;34m(\u001b[0m\u001b[0;36m0\u001b[0m\u001b[0;34m,\u001b[0m\u001b[0;36m0\u001b[0m\u001b[0;34m,\u001b[0m\u001b[0mb\u001b[0m\u001b[0;34m[\u001b[0m\u001b[0;36m0\u001b[0m\u001b[0;34m]\u001b[0m\u001b[0;34m,\u001b[0m\u001b[0mb\u001b[0m\u001b[0;34m[\u001b[0m\u001b[0;36m1\u001b[0m\u001b[0;34m]\u001b[0m\u001b[0;34m,\u001b[0m\u001b[0mcolor\u001b[0m\u001b[0;34m=\u001b[0m\u001b[0;34m'grey'\u001b[0m\u001b[0;34m,\u001b[0m\u001b[0malpha\u001b[0m\u001b[0;34m=\u001b[0m\u001b[0;36m0.5\u001b[0m\u001b[0;34m,\u001b[0m\u001b[0mscale_units\u001b[0m\u001b[0;34m=\u001b[0m\u001b[0;34m'xy'\u001b[0m\u001b[0;34m,\u001b[0m\u001b[0mangles\u001b[0m\u001b[0;34m=\u001b[0m\u001b[0;34m'xy'\u001b[0m\u001b[0;34m,\u001b[0m\u001b[0mscale\u001b[0m\u001b[0;34m=\u001b[0m\u001b[0;36m1\u001b[0m\u001b[0;34m)\u001b[0m\u001b[0;34m\u001b[0m\u001b[0;34m\u001b[0m\u001b[0m\n\u001b[1;32m      5\u001b[0m \u001b[0mplt\u001b[0m\u001b[0;34m.\u001b[0m\u001b[0mquiver\u001b[0m\u001b[0;34m(\u001b[0m\u001b[0;36m0\u001b[0m\u001b[0;34m,\u001b[0m\u001b[0;36m0\u001b[0m\u001b[0;34m,\u001b[0m\u001b[0mc\u001b[0m\u001b[0;34m[\u001b[0m\u001b[0;36m0\u001b[0m\u001b[0;34m]\u001b[0m\u001b[0;34m,\u001b[0m\u001b[0mc\u001b[0m\u001b[0;34m[\u001b[0m\u001b[0;36m1\u001b[0m\u001b[0;34m]\u001b[0m\u001b[0;34m,\u001b[0m\u001b[0mcolor\u001b[0m\u001b[0;34m=\u001b[0m\u001b[0;34m'grey'\u001b[0m\u001b[0;34m,\u001b[0m\u001b[0malpha\u001b[0m\u001b[0;34m=\u001b[0m\u001b[0;36m0.5\u001b[0m\u001b[0;34m,\u001b[0m\u001b[0mscale_units\u001b[0m\u001b[0;34m=\u001b[0m\u001b[0;34m'xy'\u001b[0m\u001b[0;34m,\u001b[0m\u001b[0mangles\u001b[0m\u001b[0;34m=\u001b[0m\u001b[0;34m'xy'\u001b[0m\u001b[0;34m,\u001b[0m\u001b[0mscale\u001b[0m\u001b[0;34m=\u001b[0m\u001b[0;36m1\u001b[0m\u001b[0;34m)\u001b[0m\u001b[0;34m\u001b[0m\u001b[0;34m\u001b[0m\u001b[0m\n",
            "\u001b[0;31mNameError\u001b[0m: name 'plt' is not defined"
          ]
        }
      ]
    },
    {
      "cell_type": "code",
      "source": [],
      "metadata": {
        "id": "LkMuWHNXiItZ"
      },
      "execution_count": null,
      "outputs": []
    },
    {
      "cell_type": "code",
      "source": [],
      "metadata": {
        "id": "kpQZKaXXiIwA"
      },
      "execution_count": null,
      "outputs": []
    },
    {
      "cell_type": "code",
      "source": [],
      "metadata": {
        "id": "QnuQ_fd5iI2c"
      },
      "execution_count": null,
      "outputs": []
    },
    {
      "cell_type": "markdown",
      "source": [
        "___\n",
        "___"
      ],
      "metadata": {
        "id": "VKh4HXIGiLVV"
      }
    },
    {
      "cell_type": "markdown",
      "source": [
        "# Question 3\n",
        "\n",
        "Given the 3D-vectors\n",
        "$$\n",
        "\\vec{p} = 4.5\\hat{\\imath} + 1.6\\hat{\\jmath} + 2.8\\hat{k} \\qquad \n",
        "\\vec{q} = 1.4\\hat{\\imath} + 4.6\\hat{\\jmath} - 7.1\\hat{k}\n",
        "$$\n",
        "answer the following:\n",
        "\n",
        "\n",
        "__a)__ Define a function __Z(x,y,p,q,B)__ which describes the surface spanned by the vectors $\\vec{p}$ and $\\vec{q}$ containing the __base-point__ $B(a,b,c)$"
      ],
      "metadata": {
        "id": "KvJ30AiUiNyF"
      }
    },
    {
      "cell_type": "code",
      "source": [],
      "metadata": {
        "id": "rcNeATOui4-Q"
      },
      "execution_count": null,
      "outputs": []
    },
    {
      "cell_type": "code",
      "source": [],
      "metadata": {
        "id": "RGTfjNvki5NQ"
      },
      "execution_count": null,
      "outputs": []
    },
    {
      "cell_type": "code",
      "source": [],
      "metadata": {
        "id": "lLv8cd_ei5UQ"
      },
      "execution_count": null,
      "outputs": []
    },
    {
      "cell_type": "code",
      "source": [],
      "metadata": {
        "id": "Qgxwr_VEiMVN"
      },
      "execution_count": null,
      "outputs": []
    },
    {
      "cell_type": "markdown",
      "source": [
        "__b)__ If $B(-4.5,2.3,1.5)$ is a point in the plane spanned by $\\vec{p}$ and $\\vec{q}$, create a __3D plot__ of the surface\n",
        "\n",
        "\n",
        "\n",
        "\n",
        "__NOTE:__ The plot should also display the vectors $\\vec{p}$, $\\vec{q}$ and $\\vec{p}\\times\\vec{q}$ along with the points $B$ and $B+2\\vec{p}-\\vec{q}$"
      ],
      "metadata": {
        "id": "xu3Dg0YRi534"
      }
    },
    {
      "cell_type": "code",
      "source": [],
      "metadata": {
        "id": "_suxPgcKjel0"
      },
      "execution_count": null,
      "outputs": []
    },
    {
      "cell_type": "code",
      "source": [],
      "metadata": {
        "id": "CXcyOvItjgQd"
      },
      "execution_count": null,
      "outputs": []
    },
    {
      "cell_type": "code",
      "source": [],
      "metadata": {
        "id": "Va9QFc34jgS7"
      },
      "execution_count": null,
      "outputs": []
    },
    {
      "cell_type": "code",
      "source": [],
      "metadata": {
        "id": "YiXysRVLjgVg"
      },
      "execution_count": null,
      "outputs": []
    },
    {
      "cell_type": "markdown",
      "source": [
        "___\n",
        "___"
      ],
      "metadata": {
        "id": "nIVnaQy4jifZ"
      }
    },
    {
      "cell_type": "markdown",
      "source": [
        "# Question 4\n",
        "\n",
        "__a)__ Define a function the create __2-dimensional__ points and vectors"
      ],
      "metadata": {
        "id": "QXddMlm9jkWB"
      }
    },
    {
      "cell_type": "code",
      "source": [
        "def v3d(a,b): \n",
        "    return np.array([a,b])"
      ],
      "metadata": {
        "id": "jy4ROUFBjjOT"
      },
      "execution_count": 17,
      "outputs": []
    },
    {
      "cell_type": "code",
      "source": [
        "u=v3d(4,1,-1)\n",
        "v=v3d(3,-2,2)\n",
        "u,v"
      ],
      "metadata": {
        "id": "SMVwsu9RjtGt",
        "colab": {
          "base_uri": "https://localhost:8080/",
          "height": 200
        },
        "outputId": "f594d50c-4491-459e-96ed-7eb904f17764"
      },
      "execution_count": 18,
      "outputs": [
        {
          "output_type": "error",
          "ename": "TypeError",
          "evalue": "ignored",
          "traceback": [
            "\u001b[0;31m---------------------------------------------------------------------------\u001b[0m",
            "\u001b[0;31mTypeError\u001b[0m                                 Traceback (most recent call last)",
            "\u001b[0;32m<ipython-input-18-70aa11334c11>\u001b[0m in \u001b[0;36m<module>\u001b[0;34m\u001b[0m\n\u001b[0;32m----> 1\u001b[0;31m \u001b[0mu\u001b[0m\u001b[0;34m=\u001b[0m\u001b[0mv3d\u001b[0m\u001b[0;34m(\u001b[0m\u001b[0;36m4\u001b[0m\u001b[0;34m,\u001b[0m\u001b[0;36m1\u001b[0m\u001b[0;34m,\u001b[0m\u001b[0;34m-\u001b[0m\u001b[0;36m1\u001b[0m\u001b[0;34m)\u001b[0m\u001b[0;34m\u001b[0m\u001b[0;34m\u001b[0m\u001b[0m\n\u001b[0m\u001b[1;32m      2\u001b[0m \u001b[0mv\u001b[0m\u001b[0;34m=\u001b[0m\u001b[0mv3d\u001b[0m\u001b[0;34m(\u001b[0m\u001b[0;36m3\u001b[0m\u001b[0;34m,\u001b[0m\u001b[0;34m-\u001b[0m\u001b[0;36m2\u001b[0m\u001b[0;34m,\u001b[0m\u001b[0;36m2\u001b[0m\u001b[0;34m)\u001b[0m\u001b[0;34m\u001b[0m\u001b[0;34m\u001b[0m\u001b[0m\n\u001b[1;32m      3\u001b[0m \u001b[0mu\u001b[0m\u001b[0;34m,\u001b[0m\u001b[0mv\u001b[0m\u001b[0;34m\u001b[0m\u001b[0;34m\u001b[0m\u001b[0m\n",
            "\u001b[0;31mTypeError\u001b[0m: v3d() takes 2 positional arguments but 3 were given"
          ]
        }
      ]
    },
    {
      "cell_type": "code",
      "source": [],
      "metadata": {
        "id": "GyC4D6-BjtI8"
      },
      "execution_count": null,
      "outputs": []
    },
    {
      "cell_type": "code",
      "source": [],
      "metadata": {
        "id": "3jp-UqhMjtLk"
      },
      "execution_count": null,
      "outputs": []
    },
    {
      "cell_type": "markdown",
      "source": [
        "__b)__ Given the point $P(-1.3, 4.5)$ and the vector\n",
        "$$\n",
        "\\vec{a} = 1.4\\hat{\\imath} - 2.3\\hat{\\jmath},\n",
        "$$\n",
        "define a function to produce the __parametric representation__ the line through $P$ in the direction of $\\vec{a}$"
      ],
      "metadata": {
        "id": "zfAvgDtGjtfO"
      }
    },
    {
      "cell_type": "code",
      "source": [],
      "metadata": {
        "id": "0IsA1HdCkQnc"
      },
      "execution_count": null,
      "outputs": []
    },
    {
      "cell_type": "code",
      "source": [],
      "metadata": {
        "id": "Gh4MBEYekSDz"
      },
      "execution_count": null,
      "outputs": []
    },
    {
      "cell_type": "code",
      "source": [],
      "metadata": {
        "id": "asb0feWikSGS"
      },
      "execution_count": null,
      "outputs": []
    },
    {
      "cell_type": "code",
      "source": [],
      "metadata": {
        "id": "TBSl-YRzkSIo"
      },
      "execution_count": null,
      "outputs": []
    },
    {
      "cell_type": "markdown",
      "source": [
        "__c)__ Create an __interactive plot__ with a slider to show a __red circle__ movind along this paramteric line "
      ],
      "metadata": {
        "id": "4Rlh1JffkSfQ"
      }
    },
    {
      "cell_type": "code",
      "source": [],
      "metadata": {
        "id": "vaGG3TDdkqgM"
      },
      "execution_count": null,
      "outputs": []
    },
    {
      "cell_type": "code",
      "source": [],
      "metadata": {
        "id": "LA_c08lgktpp"
      },
      "execution_count": null,
      "outputs": []
    },
    {
      "cell_type": "code",
      "source": [],
      "metadata": {
        "id": "kMqw1Z6Hktrx"
      },
      "execution_count": null,
      "outputs": []
    },
    {
      "cell_type": "code",
      "source": [],
      "metadata": {
        "id": "w-pRhJh-ktuH"
      },
      "execution_count": null,
      "outputs": []
    },
    {
      "cell_type": "markdown",
      "source": [
        "__d)__ Now include a __second line__ in the interactice plot from __part c)__ showing a __blue square__ moving along the line in the direction \n",
        "$$\n",
        "\\vec{b} = -2.3\\hat{\\imath} + 2.1\\hat{\\jmath}\n",
        "$$\n",
        "going through the point $Q(3.1, 1.2)$"
      ],
      "metadata": {
        "id": "oO6VqMR2kuAp"
      }
    },
    {
      "cell_type": "code",
      "source": [],
      "metadata": {
        "id": "w-19pZ5flJ5k"
      },
      "execution_count": null,
      "outputs": []
    },
    {
      "cell_type": "code",
      "source": [],
      "metadata": {
        "id": "xNaZye_QlQDI"
      },
      "execution_count": null,
      "outputs": []
    },
    {
      "cell_type": "code",
      "source": [],
      "metadata": {
        "id": "2y9cIs7GlQF0"
      },
      "execution_count": null,
      "outputs": []
    },
    {
      "cell_type": "code",
      "source": [],
      "metadata": {
        "id": "QjGtZXCHlQIL"
      },
      "execution_count": null,
      "outputs": []
    },
    {
      "cell_type": "markdown",
      "source": [
        "___\n",
        "___\n",
        "\n",
        "# End of Assignment 1\n",
        "\n",
        "* Please ensure you have saved all your answers in this workbook before uploading to Moodle\n",
        "\n",
        "\n",
        "* Save your workbook in the format __12345678.ipynb__ where 12345678 is your student number\n",
        "\n",
        "___\n",
        "___"
      ],
      "metadata": {
        "id": "iZ72VQJWlSOF"
      }
    }
  ]
}